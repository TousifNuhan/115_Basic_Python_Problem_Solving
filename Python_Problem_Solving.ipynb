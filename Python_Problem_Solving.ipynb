{
 "cells": [
  {
   "cell_type": "markdown",
   "id": "a15e9ffa",
   "metadata": {},
   "source": [
    "Basic Problems:"
   ]
  },
  {
   "cell_type": "markdown",
   "id": "cab0ca48",
   "metadata": {},
   "source": [
    "1. Write a Python program to swap the values of two variables without using a temporary variable."
   ]
  },
  {
   "cell_type": "code",
   "execution_count": 1,
   "id": "3483fe92",
   "metadata": {},
   "outputs": [
    {
     "name": "stdout",
     "output_type": "stream",
     "text": [
      "2 1\n"
     ]
    }
   ],
   "source": [
    "a=1\n",
    "b=2\n",
    "\n",
    "a,b=b,a\n",
    "\n",
    "print(a,b)"
   ]
  },
  {
   "cell_type": "markdown",
   "id": "1ee44de5",
   "metadata": {},
   "source": [
    "2. Write a Python program that takes an integer as input and prints whether it is even or odd."
   ]
  },
  {
   "cell_type": "code",
   "execution_count": 2,
   "id": "f6f357ec",
   "metadata": {},
   "outputs": [
    {
     "ename": "ValueError",
     "evalue": "invalid literal for int() with base 10: ''",
     "output_type": "error",
     "traceback": [
      "\u001b[1;31m---------------------------------------------------------------------------\u001b[0m",
      "\u001b[1;31mValueError\u001b[0m                                Traceback (most recent call last)",
      "Cell \u001b[1;32mIn[2], line 1\u001b[0m\n\u001b[1;32m----> 1\u001b[0m num\u001b[38;5;241m=\u001b[39m\u001b[38;5;28mint\u001b[39m(\u001b[38;5;28minput\u001b[39m())\n\u001b[0;32m      3\u001b[0m \u001b[38;5;28;01mif\u001b[39;00m num\u001b[38;5;241m%\u001b[39m\u001b[38;5;241m2\u001b[39m\u001b[38;5;241m==\u001b[39m\u001b[38;5;241m0\u001b[39m:\n\u001b[0;32m      4\u001b[0m     \u001b[38;5;28mprint\u001b[39m(\u001b[38;5;124m\"\u001b[39m\u001b[38;5;124mEven\u001b[39m\u001b[38;5;124m\"\u001b[39m)\n",
      "\u001b[1;31mValueError\u001b[0m: invalid literal for int() with base 10: ''"
     ]
    }
   ],
   "source": [
    "num=int(input())\n",
    "\n",
    "if num%2==0:\n",
    "    print(\"Even\")\n",
    "else:\n",
    "    print(\"Odd\")\n",
    "\n"
   ]
  },
  {
   "cell_type": "markdown",
   "id": "29c7bcaa",
   "metadata": {},
   "source": [
    "3. Write a Python function to reverse a given string and return the reversed string."
   ]
  },
  {
   "cell_type": "code",
   "execution_count": null,
   "id": "7af686eb",
   "metadata": {},
   "outputs": [
    {
     "name": "stdout",
     "output_type": "stream",
     "text": [
      "nahuN\n"
     ]
    }
   ],
   "source": [
    "def reverse(t):\n",
    "    return t[::-1]\n",
    "\n",
    "text=\"Nuhan\"\n",
    "print(reverse(text))"
   ]
  },
  {
   "cell_type": "markdown",
   "id": "0644e59f",
   "metadata": {},
   "source": [
    "4. Given a list of integers, write a Python program to convert each element of the list to a string."
   ]
  },
  {
   "cell_type": "code",
   "execution_count": null,
   "id": "c02ce323",
   "metadata": {},
   "outputs": [
    {
     "data": {
      "text/plain": [
       "str"
      ]
     },
     "execution_count": 12,
     "metadata": {},
     "output_type": "execute_result"
    }
   ],
   "source": [
    "lst=[1,2,3,4,6,4]\n",
    "\n",
    "lst_str=[str(i) for i in lst]\n",
    "\n",
    "type(lst)\n",
    "type(lst_str[5])\n",
    "    "
   ]
  },
  {
   "cell_type": "markdown",
   "id": "85ac4dbd",
   "metadata": {},
   "source": [
    "5. Write a Python program that converts a temperature in Celsius to Fahrenheit. Take the Celsius temperature as input from the user."
   ]
  },
  {
   "cell_type": "code",
   "execution_count": null,
   "id": "c5121c0b",
   "metadata": {},
   "outputs": [
    {
     "name": "stdout",
     "output_type": "stream",
     "text": [
      "94.1\n"
     ]
    }
   ],
   "source": [
    "cel=float(input())\n",
    "\n",
    "F=(cel*9/5)+32\n",
    "print(F)\n"
   ]
  },
  {
   "cell_type": "markdown",
   "id": "79ee6529",
   "metadata": {},
   "source": [
    "6. Write a Python function that takes a variable as input and returns the data type of the variable as a string (e.g., “int”, “float”, “str”, “list”, etc.)."
   ]
  },
  {
   "cell_type": "code",
   "execution_count": null,
   "id": "61173a0a",
   "metadata": {},
   "outputs": [
    {
     "name": "stdout",
     "output_type": "stream",
     "text": [
      "<class 'set'>\n"
     ]
    }
   ],
   "source": [
    "from ast import literal_eval\n",
    "\n",
    "def typeOfData(a):\n",
    "    try:\n",
    "        return type(literal_eval(a))\n",
    "    except (ValueError,SyntaxError):\n",
    "        return str\n",
    "\n",
    "print(typeOfData(input()))"
   ]
  },
  {
   "cell_type": "markdown",
   "id": "31ca8c30",
   "metadata": {},
   "source": [
    "7. Write a Python function to check if a given string is a palindrome or not."
   ]
  },
  {
   "cell_type": "code",
   "execution_count": null,
   "id": "161ae1ec",
   "metadata": {},
   "outputs": [
    {
     "name": "stdout",
     "output_type": "stream",
     "text": [
      "Palindrome\n"
     ]
    }
   ],
   "source": [
    "name='madam'\n",
    "\n",
    "reverse_name=name[::-1]\n",
    "\n",
    "if reverse_name==name:\n",
    "    print(\"Palindrome\")\n",
    "else:\n",
    "    print(\"Not Palindrome\")"
   ]
  },
  {
   "cell_type": "markdown",
   "id": "e1f65273",
   "metadata": {},
   "source": [
    "8. Write a Python function to reverse a given string using slicing."
   ]
  },
  {
   "cell_type": "code",
   "execution_count": null,
   "id": "dec275ad",
   "metadata": {},
   "outputs": [
    {
     "data": {
      "text/plain": [
       "'7253'"
      ]
     },
     "execution_count": 38,
     "metadata": {},
     "output_type": "execute_result"
    }
   ],
   "source": [
    "def reverse_str(a):\n",
    "    return a[::-1]\n",
    "\n",
    "reverse_str(input())"
   ]
  },
  {
   "cell_type": "markdown",
   "id": "4a5b4592",
   "metadata": {},
   "source": [
    "9. Write a Python program that takes two strings as input and concatenates them into a single string without using the `+` operator."
   ]
  },
  {
   "cell_type": "code",
   "execution_count": null,
   "id": "d5897bc9",
   "metadata": {},
   "outputs": [
    {
     "name": "stdout",
     "output_type": "stream",
     "text": [
      "He is mr Rahim mia\n"
     ]
    }
   ],
   "source": [
    "a=str(input())\n",
    "b=str(input())\n",
    "\n",
    "print(f\"He is {a} Rahim {b}\")"
   ]
  },
  {
   "cell_type": "markdown",
   "id": "4835cdec",
   "metadata": {},
   "source": [
    "10.  Given three variables: `a = ‘100’`, `b = 25`, and `c = ‘10.5’`, write a Python program to perform the following operations and print the results: – Convert `a` to an integer and add it to `b`. – Convert `c` to a float and subtract it from the result of the first operation. – Convert the final result to a string and concatenate it with the string ” is the answer.”"
   ]
  },
  {
   "cell_type": "code",
   "execution_count": null,
   "id": "cc779efb",
   "metadata": {},
   "outputs": [
    {
     "name": "stdout",
     "output_type": "stream",
     "text": [
      "125\n",
      "114.5\n",
      "114.5 is the answer.\n"
     ]
    }
   ],
   "source": [
    "a='100'\n",
    "b=25\n",
    "c='10.5'\n",
    "\n",
    "d=int(a)\n",
    "e=float(c)\n",
    "\n",
    "aAddWithB= d+b\n",
    "print(aAddWithB)\n",
    "\n",
    "sub= aAddWithB-e\n",
    "print(sub)\n",
    "\n",
    "convertToStr=str(sub)\n",
    "print(f\"{convertToStr} is the answer.\")\n",
    "\n"
   ]
  },
  {
   "cell_type": "markdown",
   "id": "0ce3e635",
   "metadata": {},
   "source": [
    "Python Conditional Statements:"
   ]
  },
  {
   "cell_type": "markdown",
   "id": "17757045",
   "metadata": {},
   "source": [
    "11. Write a Python program that takes a number as input and prints whether it is positive, negative, or zero."
   ]
  },
  {
   "cell_type": "code",
   "execution_count": null,
   "id": "8218791d",
   "metadata": {},
   "outputs": [
    {
     "name": "stdout",
     "output_type": "stream",
     "text": [
      "negative\n"
     ]
    }
   ],
   "source": [
    "n=int(input())\n",
    "\n",
    "if n>0:\n",
    "    print(\"positive\")\n",
    "elif n<0:\n",
    "    print(\"negative\")\n",
    "else:\n",
    "    print(\"zero\")"
   ]
  },
  {
   "cell_type": "markdown",
   "id": "b3a0469c",
   "metadata": {},
   "source": [
    "12. Write a Python program that takes three numbers as input and prints the largest among them."
   ]
  },
  {
   "cell_type": "code",
   "execution_count": null,
   "id": "069147de",
   "metadata": {},
   "outputs": [
    {
     "name": "stdout",
     "output_type": "stream",
     "text": [
      "6\n"
     ]
    }
   ],
   "source": [
    "a,b,c=input(\"Enter 3 Numbers: \").split()\n",
    "\n",
    "a=int(a)\n",
    "b=int(b)\n",
    "c=int(c)\n",
    "\n",
    "if a>b and a>c:\n",
    "    print(a)\n",
    "elif b>a and b>c:\n",
    "    print(b)\n",
    "else:\n",
    "    print(c)\n"
   ]
  },
  {
   "cell_type": "markdown",
   "id": "dfbb951a",
   "metadata": {},
   "source": [
    "13. Write a Python program that takes a year as input and determines if it is a leap year or not."
   ]
  },
  {
   "cell_type": "code",
   "execution_count": null,
   "id": "9d7808b6",
   "metadata": {},
   "outputs": [
    {
     "name": "stdout",
     "output_type": "stream",
     "text": [
      "No leap year\n"
     ]
    }
   ],
   "source": [
    "leap_year=int(input())\n",
    "\n",
    "if leap_year%4==0:\n",
    "    print(\"leap year\")\n",
    "elif leap_year%100==0:\n",
    "    print(\"leap year\")\n",
    "elif leap_year%400==0:\n",
    "    print(\"leap year\")\n",
    "else:\n",
    "    print(\"No leap year\")\n"
   ]
  },
  {
   "cell_type": "markdown",
   "id": "8efafcf6",
   "metadata": {},
   "source": [
    "14. Write a Python program that takes a student’s percentage as input and prints their corresponding grade according to the following criteria: – 90% or above: A+ – 80-89%: A – 70-79%: B – 60-69%: C – Below 60%: Fail"
   ]
  },
  {
   "cell_type": "code",
   "execution_count": null,
   "id": "edc2c26b",
   "metadata": {},
   "outputs": [
    {
     "name": "stdout",
     "output_type": "stream",
     "text": [
      "Not a valid number\n"
     ]
    }
   ],
   "source": [
    "n=float(input())\n",
    "\n",
    "if 90<=n and 100>=n:\n",
    "   print(\"A+\")\n",
    "elif 80<=n and 89>=n:\n",
    "   print(\"A\")\n",
    "elif 70<=n and 79>=n:\n",
    "   print(\"B\")\n",
    "elif 60<=n and 69>=n:\n",
    "   print(\"C\")\n",
    "elif 0>n or 100<n:\n",
    "   print(\"Not a valid number\") \n",
    "else:\n",
    "   print(\"F\")"
   ]
  },
  {
   "cell_type": "markdown",
   "id": "8a32e86c",
   "metadata": {},
   "source": [
    "15. Write a Python program that takes a single character as input and determines whether it is a vowel or a consonant."
   ]
  },
  {
   "cell_type": "code",
   "execution_count": 34,
   "id": "5b003593",
   "metadata": {},
   "outputs": [
    {
     "name": "stdout",
     "output_type": "stream",
     "text": [
      "Consonant\n"
     ]
    }
   ],
   "source": [
    "from ast import literal_eval\n",
    "\n",
    "a=input()\n",
    "\n",
    "if(len(a)==1):\n",
    "    if isinstance(a,str):\n",
    "        if a=='a' or a=='e' or a=='i' or a=='o' or a=='u':\n",
    "             print('Vowel')\n",
    "        else:\n",
    "             print('Consonant')\n",
    "    \n",
    "else:\n",
    "    print(\"Give a single Character\")\n",
    "\n"
   ]
  },
  {
   "cell_type": "markdown",
   "id": "b0cc67ca",
   "metadata": {},
   "source": [
    "16. Write a Python program that takes the time in hours (24-hour format) as input and prints “Good Morning”, “Good Afternoon”, “Good Evening”, or “Good Night” based on the time."
   ]
  },
  {
   "cell_type": "code",
   "execution_count": 6,
   "id": "5d920f40",
   "metadata": {},
   "outputs": [
    {
     "name": "stdout",
     "output_type": "stream",
     "text": [
      "Invalid format!\n"
     ]
    }
   ],
   "source": [
    "from datetime import datetime \n",
    "\n",
    "time_str=input(\"Enter time in 24 hour format(HH:MM): \")\n",
    "\n",
    "try:\n",
    " \n",
    "    hour=datetime.strptime(time_str,\"%H:%M\").hour\n",
    "\n",
    "    if( 5<=hour<12):\n",
    "        print(\"Good morning\")\n",
    "\n",
    "    elif( 12<=hour<17):\n",
    "        print(\"Good Afternoon\")\n",
    "\n",
    "    elif( 17<=hour<21):\n",
    "        print(\"Good Evening\")\n",
    "\n",
    "    else:\n",
    "         print(\"Good Night\")\n",
    "except ValueError:\n",
    "    print(\"Invalid format!\")"
   ]
  },
  {
   "cell_type": "markdown",
   "id": "a7ff1309",
   "metadata": {},
   "source": [
    "17.  Write a Python program that takes three sides of a triangle as input and determines whether it forms an equilateral, isosceles, or scalene triangle. "
   ]
  },
  {
   "cell_type": "code",
   "execution_count": 9,
   "id": "4999a7c1",
   "metadata": {},
   "outputs": [
    {
     "name": "stdout",
     "output_type": "stream",
     "text": [
      "Equilateral Triangle\n"
     ]
    }
   ],
   "source": [
    "a,b,c=map(int, input(\"Give 3 sides of a triangle\").split())\n",
    "\n",
    "if(a==b==c):\n",
    "    print(\"Equilateral Triangle\")\n",
    "elif(a==c or a==b or b==c):\n",
    "    print(\"Isosceles Triangle\")\n",
    "else:\n",
    "    print(\"Scalene Triangle\")\n"
   ]
  },
  {
   "cell_type": "markdown",
   "id": "5bb799cd",
   "metadata": {},
   "source": [
    "18. Write a Python program that takes the coefficients (a, b, c) of a quadratic equation as input and calculates and prints the real roots (if they exist) or a message indicating the complex roots."
   ]
  },
  {
   "cell_type": "code",
   "execution_count": 13,
   "id": "7cad3219",
   "metadata": {},
   "outputs": [
    {
     "name": "stdout",
     "output_type": "stream",
     "text": [
      "-0.79+1338.149468482501i and -0.79-1338.149468482501i \n"
     ]
    }
   ],
   "source": [
    "import math\n",
    "\n",
    "a,b,c= map(float, input(\"Give 3 numbers of Quadratic Equation: \").split())\n",
    "\n",
    "D= b**2 - 4*a*c\n",
    "\n",
    "if D>0:\n",
    "    x1= (-b+math.sqrt(D))/(2*a)\n",
    "    x2= (-b-math.sqrt(D))/(2*a)\n",
    "    print(f\"{x1:.2f} and {x2:.2f}\")\n",
    "elif D==0:\n",
    "    x=-b/(2*a)\n",
    "    print(f\"{x}\")\n",
    "else:\n",
    "    real_part=-b/(2*a)\n",
    "    img_part=math.sqrt(abs(D))/(2*a)\n",
    "    print(f\"{real_part:.2f}+{img_part}i and {real_part:.2f}-{img_part}i \")"
   ]
  },
  {
   "cell_type": "markdown",
   "id": "feb35557",
   "metadata": {},
   "source": [
    "19. Write a Python program that takes an integer as input and prints whether the number falls within the ranges: 0-50, 51-100, 101-150, or above 150."
   ]
  },
  {
   "cell_type": "code",
   "execution_count": 17,
   "id": "3076f759",
   "metadata": {},
   "outputs": [
    {
     "name": "stdout",
     "output_type": "stream",
     "text": [
      "Above 150\n"
     ]
    }
   ],
   "source": [
    "num=int(input())\n",
    "\n",
    "if(0<=num<=50):\n",
    "    print(\"Range between 0-50\")\n",
    "\n",
    "elif(51<=num<=100):\n",
    "    print(\"Range between 51-100\")\n",
    "\n",
    "elif(101<=num<=150):\n",
    "    print(\"Range between 100-150\")\n",
    "\n",
    "elif(0>num):\n",
    "    print(\"Number is less than zero\")\n",
    "else:\n",
    "    print(\"Above 150\")"
   ]
  },
  {
   "cell_type": "markdown",
   "id": "c239ec1f",
   "metadata": {},
   "source": [
    "20. Write a Python program using a for loop to calculate the sum of the first N natural numbers, where N is taken as input from the user."
   ]
  },
  {
   "cell_type": "code",
   "execution_count": 4,
   "id": "9b7f74a0",
   "metadata": {},
   "outputs": [
    {
     "name": "stdout",
     "output_type": "stream",
     "text": [
      "1\n",
      "2\n",
      "3\n",
      "4\n",
      "5\n",
      "15\n"
     ]
    }
   ],
   "source": [
    "n=int(input())\n",
    "\n",
    "sum=0\n",
    "for i in range(1,n+1):\n",
    "    print(i)\n",
    "    sum+=i\n",
    "\n",
    "print(sum)"
   ]
  },
  {
   "cell_type": "markdown",
   "id": "54b8f094",
   "metadata": {},
   "source": [
    "21.  Write a Python program using a while loop to calculate the factorial of a given number N."
   ]
  },
  {
   "cell_type": "code",
   "execution_count": 21,
   "id": "caf24101",
   "metadata": {},
   "outputs": [
    {
     "name": "stdout",
     "output_type": "stream",
     "text": [
      "120\n"
     ]
    }
   ],
   "source": [
    "n=int(input())\n",
    "\n",
    "total=1\n",
    "while n>0:\n",
    "    total*=(n)\n",
    "    n-=1\n",
    "print(total)\n",
    "    \n",
    "   "
   ]
  },
  {
   "cell_type": "markdown",
   "id": "2320169d",
   "metadata": {},
   "source": [
    "22. Write a Python program using a for loop to print the multiplication table of a given number N."
   ]
  },
  {
   "cell_type": "code",
   "execution_count": 31,
   "id": "8c5af929",
   "metadata": {},
   "outputs": [
    {
     "name": "stdout",
     "output_type": "stream",
     "text": [
      "120 x 1 = 120\n",
      "120 x 2 = 240\n",
      "120 x 3 = 360\n",
      "120 x 4 = 480\n",
      "120 x 5 = 600\n",
      "120 x 6 = 720\n",
      "120 x 7 = 840\n",
      "120 x 8 = 960\n",
      "120 x 9 = 1080\n",
      "120 x 10 = 1200\n"
     ]
    }
   ],
   "source": [
    "n=int(input())\n",
    "\n",
    "for i in range(1,11):\n",
    "    print(f\"{n} x {i} = {n*i}\")\n",
    "\n",
    "  "
   ]
  },
  {
   "cell_type": "markdown",
   "id": "ce871ebc",
   "metadata": {},
   "source": [
    "23. Write a Python program using a while loop to count the number of digits in a given integer N."
   ]
  },
  {
   "cell_type": "code",
   "execution_count": 8,
   "id": "1f2cd659",
   "metadata": {},
   "outputs": [
    {
     "name": "stdout",
     "output_type": "stream",
     "text": [
      "4\n"
     ]
    }
   ],
   "source": [
    "n=int(input())\n",
    "\n",
    "count=0\n",
    "\n",
    "if n==0:\n",
    "    count=1\n",
    "else:\n",
    "    while n!=0:\n",
    "        n=n//10\n",
    "        count+=1\n",
    "\n",
    "print(count)\n",
    "\n"
   ]
  },
  {
   "cell_type": "markdown",
   "id": "8c57cc48",
   "metadata": {},
   "source": [
    "24. Write a Python program using a for loop to generate the Fibonacci sequence up to a given limit N."
   ]
  },
  {
   "cell_type": "code",
   "execution_count": 31,
   "id": "4c45f9a6",
   "metadata": {},
   "outputs": [
    {
     "name": "stdout",
     "output_type": "stream",
     "text": [
      "0\n",
      "1\n",
      "1\n",
      "2\n",
      "3\n",
      "5\n",
      "8\n",
      "13\n",
      "21\n",
      "34\n",
      "55\n",
      "89\n"
     ]
    }
   ],
   "source": [
    "n=10\n",
    "\n",
    "a=0\n",
    "b=1\n",
    "print(f\"{a}\\n{b}\")\n",
    "\n",
    "sum=0\n",
    "\n",
    "for i in range(n):\n",
    "     \n",
    "     sum=a+b\n",
    "     print(sum)\n",
    "     a,b=b,sum\n",
    "\n"
   ]
  },
  {
   "cell_type": "markdown",
   "id": "25c4e147",
   "metadata": {},
   "source": [
    "25. Write a Python program using a while loop to calculate the sum of all even numbers between 1 and N, where N is taken as input from the user."
   ]
  },
  {
   "cell_type": "code",
   "execution_count": 36,
   "id": "d89ca648",
   "metadata": {},
   "outputs": [
    {
     "name": "stdout",
     "output_type": "stream",
     "text": [
      "6\n"
     ]
    }
   ],
   "source": [
    "n=int(input())\n",
    "sum=0\n",
    "\n",
    "i=2\n",
    "while 1<=i and n>=i:\n",
    "    sum+=i\n",
    "    i+=2\n",
    "\n",
    "print(sum)"
   ]
  },
  {
   "cell_type": "markdown",
   "id": "e0f52a3c",
   "metadata": {},
   "source": [
    "26. Write a Python program using nested for loops to print various patterns, such as a right-angled triangle, an inverted right-angled triangle, and so on."
   ]
  },
  {
   "cell_type": "code",
   "execution_count": null,
   "id": "5f89f7f1",
   "metadata": {},
   "outputs": [],
   "source": []
  }
 ],
 "metadata": {
  "kernelspec": {
   "display_name": "base",
   "language": "python",
   "name": "python3"
  },
  "language_info": {
   "codemirror_mode": {
    "name": "ipython",
    "version": 3
   },
   "file_extension": ".py",
   "mimetype": "text/x-python",
   "name": "python",
   "nbconvert_exporter": "python",
   "pygments_lexer": "ipython3",
   "version": "3.12.7"
  }
 },
 "nbformat": 4,
 "nbformat_minor": 5
}
